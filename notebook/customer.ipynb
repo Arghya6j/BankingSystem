{
 "cells": [
  {
   "cell_type": "code",
   "execution_count": 1,
   "metadata": {},
   "outputs": [],
   "source": [
    "class Customer():\n",
    "    def __init__(self, customer_id, name, address, phone_number):\n",
    "        self.customer_id = customer_id\n",
    "        self.name = name\n",
    "        self.address = address\n",
    "        self.phone_number = phoimport Customer\n",
    "class Account():\n",
    "    def __init__(self, account_number, customer, initial_balance:float=0.0):\n",
    "        self.account_number = account_number\n",
    "        self.customer = customer(Customer)\n",
    "        self.balance = initial_balance\n",
    "\n",
    "    def deposit(self, amount):\n",
    "        if amount >0:\n",
    "            self.balance += amount\n",
    "            print(self.balance)\n",
    "            \n",
    "    def withdraw(self, amount):\n",
    "        if  self.balance >= amount:\n",
    "            self.balance -= amount\n",
    "            return True\n",
    "        else:\n",
    "            return False\n",
    "   \n",
    "    def get_balance(self):\n",
    "        return self.balance\n",
    "\n",
    "if __name__== \"__main__\":\n",
    "    john_savings= Account(\"S001\",customer1.customer,1000)\n",
    "    john_savings.deposit(15000)\n",
    "# john_savings = Account(\"S001\", customer1)\n",
    "# john_checking = Account(\"C001\", customer1)\n",
    "# jane_savings = Account(\"S002\", customer2)\n",
    "# jane_checking = Account(\"C002\", customer2)\n",
    "ne_number\n",
    "    def get_customer_info(self):\n",
    "        return f\"Customer ID: {self.customer_id} Name: {self.name}Address: {self.address} Phone_Number: {self.phone_number}\"  \n",
    " "
   ]
  },
  {
   "cell_type": "code",
   "execution_count": 2,
   "metadata": {},
   "outputs": [],
   "source": [
    "customer1 = Customer(\"C001\", \"John Doe\", \"123 Main St\", \"555-1234\")\n",
    "customer2 = Customer(\"C002\", \"Jane Smith\", \"456 Elm St\", \"555-5678\")"
   ]
  },
  {
   "cell_type": "code",
   "execution_count": null,
   "metadata": {},
   "outputs": [],
   "source": []
  },
  {
   "cell_type": "code",
   "execution_count": null,
   "metadata": {},
   "outputs": [],
   "source": []
  },
  {
   "cell_type": "code",
   "execution_count": null,
   "metadata": {},
   "outputs": [],
   "source": []
  }
 ],
 "metadata": {
  "kernelspec": {
   "display_name": "Python 3",
   "language": "python",
   "name": "python3"
  },
  "language_info": {
   "codemirror_mode": {
    "name": "ipython",
    "version": 3
   },
   "file_extension": ".py",
   "mimetype": "text/x-python",
   "name": "python",
   "nbconvert_exporter": "python",
   "pygments_lexer": "ipython3",
   "version": "3.11.5"
  },
  "orig_nbformat": 4
 },
 "nbformat": 4,
 "nbformat_minor": 2
}
