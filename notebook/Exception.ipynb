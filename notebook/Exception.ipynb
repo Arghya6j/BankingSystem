{
 "cells": [
  {
   "cell_type": "code",
   "execution_count": 1,
   "metadata": {},
   "outputs": [],
   "source": [
    "def fib():\n",
    "    for i in range(1,20):\n",
    "        for j in range(i-1,20):\n",
    "            return i/j"
   ]
  },
  {
   "cell_type": "code",
   "execution_count": 2,
   "metadata": {},
   "outputs": [
    {
     "ename": "ZeroDivisionError",
     "evalue": "division by zero",
     "output_type": "error",
     "traceback": [
      "\u001b[1;31m---------------------------------------------------------------------------\u001b[0m",
      "\u001b[1;31mZeroDivisionError\u001b[0m                         Traceback (most recent call last)",
      "\u001b[1;32mc:\\Users\\CZ0246\\BankingSystem\\notebook\\Exception.ipynb Cell 2\u001b[0m line \u001b[0;36m1\n\u001b[1;32m----> <a href='vscode-notebook-cell:/c%3A/Users/CZ0246/BankingSystem/notebook/Exception.ipynb#W1sZmlsZQ%3D%3D?line=0'>1</a>\u001b[0m fib()\n",
      "\u001b[1;32mc:\\Users\\CZ0246\\BankingSystem\\notebook\\Exception.ipynb Cell 2\u001b[0m line \u001b[0;36m4\n\u001b[0;32m      <a href='vscode-notebook-cell:/c%3A/Users/CZ0246/BankingSystem/notebook/Exception.ipynb#W1sZmlsZQ%3D%3D?line=1'>2</a>\u001b[0m \u001b[39mfor\u001b[39;00m i \u001b[39min\u001b[39;00m \u001b[39mrange\u001b[39m(\u001b[39m1\u001b[39m,\u001b[39m20\u001b[39m):\n\u001b[0;32m      <a href='vscode-notebook-cell:/c%3A/Users/CZ0246/BankingSystem/notebook/Exception.ipynb#W1sZmlsZQ%3D%3D?line=2'>3</a>\u001b[0m     \u001b[39mfor\u001b[39;00m j \u001b[39min\u001b[39;00m \u001b[39mrange\u001b[39m(i\u001b[39m-\u001b[39m\u001b[39m1\u001b[39m,\u001b[39m20\u001b[39m):\n\u001b[1;32m----> <a href='vscode-notebook-cell:/c%3A/Users/CZ0246/BankingSystem/notebook/Exception.ipynb#W1sZmlsZQ%3D%3D?line=3'>4</a>\u001b[0m         \u001b[39mreturn\u001b[39;00m i\u001b[39m/\u001b[39mj\n",
      "\u001b[1;31mZeroDivisionError\u001b[0m: division by zero"
     ]
    }
   ],
   "source": [
    "fib()"
   ]
  },
  {
   "cell_type": "code",
   "execution_count": 4,
   "metadata": {},
   "outputs": [],
   "source": [
    "# Try:  this block contains the lines of code that are suspected to throw an error \n",
    "#except: This block will catch exception that try block will throw.(this is mandatory with the try block)\n",
    "# else: This block will execute when try block will throws errors. it will handel the error.\n",
    "# Finally:-Executes every time."
   ]
  },
  {
   "cell_type": "code",
   "execution_count": 13,
   "metadata": {},
   "outputs": [
    {
     "name": "stdout",
     "output_type": "stream",
     "text": [
      "division by zero\n"
     ]
    }
   ],
   "source": [
    "try:\n",
    "    for i in range(1,20):\n",
    "        for j in range(i-1,20):\n",
    "            print(i/j) \n",
    "    \n",
    "except Exception as e:\n",
    "    print(e)\n",
    "    "
   ]
  },
  {
   "cell_type": "code",
   "execution_count": 19,
   "metadata": {},
   "outputs": [
    {
     "name": "stdout",
     "output_type": "stream",
     "text": [
      "Can not convert string to int\n"
     ]
    }
   ],
   "source": [
    "import sys\n",
    "try:\n",
    "    b=int('subha')\n",
    "except ValueError:\n",
    "    print(\"Can not convert string to int\")\n",
    "    # print(sys.exc_info())\n"
   ]
  },
  {
   "cell_type": "code",
   "execution_count": 28,
   "metadata": {},
   "outputs": [],
   "source": [
    "# exception as e\n",
    "# sys.exc_info()\n",
    "# by using the error class'name\n"
   ]
  },
  {
   "cell_type": "code",
   "execution_count": 35,
   "metadata": {},
   "outputs": [
    {
     "name": "stdout",
     "output_type": "stream",
     "text": [
      "enter another number\n"
     ]
    }
   ],
   "source": [
    "try:\n",
    "    a=10\n",
    "    b=int(input())\n",
    "    c=a/b\n",
    "except:\n",
    "    print(\"enter another number\")\n",
    "else:\n",
    "    print(c)\n"
   ]
  }
 ],
 "metadata": {
  "kernelspec": {
   "display_name": "Python 3",
   "language": "python",
   "name": "python3"
  },
  "language_info": {
   "codemirror_mode": {
    "name": "ipython",
    "version": 3
   },
   "file_extension": ".py",
   "mimetype": "text/x-python",
   "name": "python",
   "nbconvert_exporter": "python",
   "pygments_lexer": "ipython3",
   "version": "3.11.5"
  },
  "orig_nbformat": 4
 },
 "nbformat": 4,
 "nbformat_minor": 2
}
