{
 "cells": [
  {
   "cell_type": "code",
   "execution_count": 17,
   "metadata": {},
   "outputs": [],
   "source": [
    "class Account():\n",
    "    def __init__(self, account_number, customer, initial_balance=0.0):\n",
    "        self.account_number = account_number\n",
    "        self.customer = customer\n",
    "        self.balance = initial_balance"
   ]
  },
  {
   "cell_type": "code",
   "execution_count": 1,
   "metadata": {},
   "outputs": [],
   "source": [
    " def deposit(self, amount):\n",
    "        if amount >0:\n",
    "            self.balance += amount\n",
    "            \n",
    " def withdraw(self, amount):\n",
    "        if  self.balance >= amount:\n",
    "            self.balance -= amount\n",
    "            return True\n",
    "        else:\n",
    "            return False\n",
    "   \n",
    "def get_balance(self):\n",
    "        return self.balance"
   ]
  },
  {
   "cell_type": "code",
   "execution_count": 19,
   "metadata": {},
   "outputs": [
    {
     "ename": "NameError",
     "evalue": "name 'customer1' is not defined",
     "output_type": "error",
     "traceback": [
      "\u001b[1;31m---------------------------------------------------------------------------\u001b[0m",
      "\u001b[1;31mNameError\u001b[0m                                 Traceback (most recent call last)",
      "\u001b[1;32mc:\\Users\\CZ0246\\BankingSystem\\notebook\\account_1.ipynb Cell 3\u001b[0m line \u001b[0;36m1\n\u001b[1;32m----> <a href='vscode-notebook-cell:/c%3A/Users/CZ0246/BankingSystem/notebook/account_1.ipynb#W4sZmlsZQ%3D%3D?line=0'>1</a>\u001b[0m john_savings \u001b[39m=\u001b[39m Account(\u001b[39m\"\u001b[39m\u001b[39mS001\u001b[39m\u001b[39m\"\u001b[39m, customer1)\n\u001b[0;32m      <a href='vscode-notebook-cell:/c%3A/Users/CZ0246/BankingSystem/notebook/account_1.ipynb#W4sZmlsZQ%3D%3D?line=1'>2</a>\u001b[0m john_checking \u001b[39m=\u001b[39m Account(\u001b[39m\"\u001b[39m\u001b[39mC001\u001b[39m\u001b[39m\"\u001b[39m, customer1)\n\u001b[0;32m      <a href='vscode-notebook-cell:/c%3A/Users/CZ0246/BankingSystem/notebook/account_1.ipynb#W4sZmlsZQ%3D%3D?line=2'>3</a>\u001b[0m jane_savings \u001b[39m=\u001b[39m Account(\u001b[39m\"\u001b[39m\u001b[39mS002\u001b[39m\u001b[39m\"\u001b[39m, customer2)\n",
      "\u001b[1;31mNameError\u001b[0m: name 'customer1' is not defined"
     ]
    }
   ],
   "source": [
    "john_savings = Account(\"S001\", customer1)\n",
    "john_checking = Account(\"C001\", customer1)\n",
    "jane_savings = Account(\"S002\", customer2)\n",
    "jane_checking = Account(\"C002\", customer2)\n"
   ]
  }
 ],
 "metadata": {
  "kernelspec": {
   "display_name": "Python 3",
   "language": "python",
   "name": "python3"
  },
  "language_info": {
   "codemirror_mode": {
    "name": "ipython",
    "version": 3
   },
   "file_extension": ".py",
   "mimetype": "text/x-python",
   "name": "python",
   "nbconvert_exporter": "python",
   "pygments_lexer": "ipython3",
   "version": "3.11.5"
  },
  "orig_nbformat": 4
 },
 "nbformat": 4,
 "nbformat_minor": 2
}
